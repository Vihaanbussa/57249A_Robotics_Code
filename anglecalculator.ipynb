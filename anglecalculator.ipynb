{
 "cells": [
  {
   "cell_type": "code",
   "execution_count": 1,
   "metadata": {},
   "outputs": [
    {
     "name": "stdout",
     "output_type": "stream",
     "text": [
      "The angle between the two points (0.0, 0.0) and (5.0, 5.0) is 45.00 degrees\n"
     ]
    }
   ],
   "source": [
    "import math\n",
    "\n",
    "def calculate_angle(x1, y1, x2, y2):\n",
    "    \"\"\"\n",
    "    Calculates the angle in degrees between two points (x1, y1) and (x2, y2)\n",
    "    relative to the positive x-axis, ensuring the result is within [0, 360) degrees.\n",
    "    \"\"\"\n",
    "    delta_x = x2 - x1\n",
    "    delta_y = y2 - y1\n",
    "    angle = math.degrees(math.atan2(delta_y, delta_x))\n",
    "    \n",
    "    # Ensure the angle is within [0, 360) range\n",
    "    if angle < 0:\n",
    "        angle += 360.0\n",
    "    \n",
    "    return angle\n",
    "\n",
    "if __name__ == \"__main__\":\n",
    "    x1, y1 = map(float, input(\"Enter first point (x1 y1): \").split())\n",
    "    x2, y2 = map(float, input(\"Enter second point (x2 y2): \").split())\n",
    "    \n",
    "    angle = calculate_angle(x1, y1, x2, y2)\n",
    "    print(f\"The angle between the two points ({x1}, {y1}) and ({x2}, {y2}) is {angle:.2f} degrees\")\n"
   ]
  }
 ],
 "metadata": {
  "kernelspec": {
   "display_name": "Python 3",
   "language": "python",
   "name": "python3"
  },
  "language_info": {
   "codemirror_mode": {
    "name": "ipython",
    "version": 3
   },
   "file_extension": ".py",
   "mimetype": "text/x-python",
   "name": "python",
   "nbconvert_exporter": "python",
   "pygments_lexer": "ipython3",
   "version": "3.12.4"
  }
 },
 "nbformat": 4,
 "nbformat_minor": 2
}
